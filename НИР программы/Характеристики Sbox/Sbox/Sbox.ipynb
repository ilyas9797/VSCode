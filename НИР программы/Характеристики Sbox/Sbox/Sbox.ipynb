{
 "cells": [
  {
   "cell_type": "code",
   "execution_count": 15,
   "metadata": {},
   "outputs": [],
   "source": [
    "from math import log2, fabs\n",
    "import numpy as np\n",
    "\n",
    "sboxes = [\n",
    "        'present',\n",
    "        'midory',\n",
    "        'gift',\n",
    "        'skinny1',\n",
    "        'skinny2',\n",
    "        'lilliput',\n",
    "        'clefia_ss0',\n",
    "        'clefia_ss1',\n",
    "        'clefia_ss2',\n",
    "        'clefia_ss3',\n",
    "        'clefia_s0',\n",
    "        'clefia_s1'\n",
    "         ]\n",
    "present = [0xC, 5, 6, 0xB, 9, 0, 0xA, 0xD, 3, 0xE, 0xF, 8, 4, 7, 1, 2]\n",
    "midory = [0xC, 0xA, 0xD, 3, 0xE, 0xB, 0xF, 7, 8, 9, 1, 5, 0, 2, 4, 6]\n",
    "gift = [1, 0xA, 4, 0xC, 6, 0xF, 3, 9, 2, 0xD, 0xB, 7, 5, 0, 8, 0xE]\n",
    "skinny1 = [0xC, 6, 9, 0, 1, 0xA, 2, 0xB, 3, 8, 5, 0xD, 4, 0xE, 7, 0xF]\n",
    "skinny2 = [3, 4, 6, 8, 0xC, 0xA, 1, 0xE, 9, 2, 5, 7, 0, 0xB, 0xD, 0xF]\n",
    "lilliput = [4, 8, 7, 1, 9, 3, 2, 0xE, 0, 0xB, 3, 0xF, 0xA, 5, 0xD, 0xC]\n",
    "clefia_ss0 = [0xe, 0x6, 0xc, 0xa, 0x8, 0x7, 0x2, 0xf, 0xb, 0x1, 0x4, 0x0, 0x5, 0x9, 0xd, 0x3]\n",
    "clefia_ss1 = [0x6, 0x4, 0x0, 0xd, 0x2, 0xb, 0xa, 0x3, 0x9, 0xc, 0xe, 0xf, 0x8, 0x7, 0x5, 0x1]\n",
    "clefia_ss2 = [0xb, 0x8, 0x5, 0xe, 0xa, 0x6, 0x4, 0xc, 0xf, 0x7, 0x2, 0x3, 0x1, 0x0, 0xd, 0x9]\n",
    "clefia_ss3 = [0xa, 0x2, 0x6, 0xd, 0x3, 0x4, 0x5, 0xe, 0x0, 0x7, 0x8, 0x9, 0xb, 0xf, 0xc, 0x1]\n",
    "clefia_s0 = [0x57, 0x49, 0xd1, 0xc6, 0x2f, 0x33, 0x74, 0xfb,\n",
    "            0x95, 0x6d, 0x82, 0xea, 0x0e, 0xb0, 0xa8, 0x1c,\n",
    "            0x28, 0xd0, 0x4b, 0x92, 0x5c, 0xee, 0x85, 0xb1,\n",
    "            0xc4, 0x0a, 0x76, 0x3d, 0x63, 0xf9, 0x17, 0xaf,\n",
    "            0xbf, 0xa1, 0x19, 0x65, 0xf7, 0x7a, 0x32, 0x20,\n",
    "            0x06, 0xce, 0xe4, 0x83, 0x9d, 0x5b, 0x4c, 0xd8,\n",
    "            0x42, 0x5d, 0x2e, 0xe8, 0xd4, 0x9b, 0x0f, 0x13,\n",
    "            0x3c, 0x89, 0x67, 0xc0, 0x71, 0xaa, 0xb6, 0xf5,\n",
    "            0xa4, 0xbe, 0xfd, 0x8c, 0x12, 0x00, 0x97, 0xda,\n",
    "            0x78, 0xe1, 0xcf, 0x6b, 0x39, 0x43, 0x55, 0x26,\n",
    "            0x30, 0x98, 0xcc, 0xdd, 0xeb, 0x54, 0xb3, 0x8f,\n",
    "            0x4e, 0x16, 0xfa, 0x22, 0xa5, 0x77, 0x09, 0x61,\n",
    "            0xd6, 0x2a, 0x53, 0x37, 0x45, 0xc1, 0x6c, 0xae,\n",
    "            0xef, 0x70, 0x08, 0x99, 0x8b, 0x1d, 0xf2, 0xb4,\n",
    "            0xe9, 0xc7, 0x9f, 0x4a, 0x31, 0x25, 0xfe, 0x7c,\n",
    "            0xd3, 0xa2, 0xbd, 0x56, 0x14, 0x88, 0x60, 0x0b,\n",
    "            0xcd, 0xe2, 0x34, 0x50, 0x9e, 0xdc, 0x11, 0x05,\n",
    "            0x2b, 0xb7, 0xa9, 0x48, 0xff, 0x66, 0x8a, 0x73,\n",
    "            0x03, 0x75, 0x86, 0xf1, 0x6a, 0xa7, 0x40, 0xc2,\n",
    "            0xb9, 0x2c, 0xdb, 0x1f, 0x58, 0x94, 0x3e, 0xed,\n",
    "            0xfc, 0x1b, 0xa0, 0x04, 0xb8, 0x8d, 0xe6, 0x59,\n",
    "            0x62, 0x93, 0x35, 0x7e, 0xca, 0x21, 0xdf, 0x47,\n",
    "            0x15, 0xf3, 0xba, 0x7f, 0xa6, 0x69, 0xc8, 0x4d,\n",
    "            0x87, 0x3b, 0x9c, 0x01, 0xe0, 0xde, 0x24, 0x52,\n",
    "            0x7b, 0x0c, 0x68, 0x1e, 0x80, 0xb2, 0x5a, 0xe7,\n",
    "            0xad, 0xd5, 0x23, 0xf4, 0x46, 0x3f, 0x91, 0xc9,\n",
    "            0x6e, 0x84, 0x72, 0xbb, 0x0d, 0x18, 0xd9, 0x96,\n",
    "            0xf0, 0x5f, 0x41, 0xac, 0x27, 0xc5, 0xe3, 0x3a,\n",
    "            0x81, 0x6f, 0x07, 0xa3, 0x79, 0xf6, 0x2d, 0x38,\n",
    "            0x1a, 0x44, 0x5e, 0xb5, 0xd2, 0xec, 0xcb, 0x90,\n",
    "            0x9a, 0x36, 0xe5, 0x29, 0xc3, 0x4f, 0xab, 0x64,\n",
    "            0x51, 0xf8, 0x10, 0xd7, 0xbc, 0x02, 0x7d, 0x8e]\n",
    "clefia_s1 = [0x6c, 0xda, 0xc3, 0xe9, 0x4e, 0x9d, 0x0a, 0x3d,\n",
    "            0xb8, 0x36, 0xb4, 0x38, 0x13, 0x34, 0x0c, 0xd9,\n",
    "            0xbf, 0x74, 0x94, 0x8f, 0xb7, 0x9c, 0xe5, 0xdc,\n",
    "            0x9e, 0x07, 0x49, 0x4f, 0x98, 0x2c, 0xb0, 0x93,\n",
    "            0x12, 0xeb, 0xcd, 0xb3, 0x92, 0xe7, 0x41, 0x60,\n",
    "            0xe3, 0x21, 0x27, 0x3b, 0xe6, 0x19, 0xd2, 0x0e,\n",
    "            0x91, 0x11, 0xc7, 0x3f, 0x2a, 0x8e, 0xa1, 0xbc,\n",
    "            0x2b, 0xc8, 0xc5, 0x0f, 0x5b, 0xf3, 0x87, 0x8b,\n",
    "            0xfb, 0xf5, 0xde, 0x20, 0xc6, 0xa7, 0x84, 0xce,\n",
    "            0xd8, 0x65, 0x51, 0xc9, 0xa4, 0xef, 0x43, 0x53,\n",
    "            0x25, 0x5d, 0x9b, 0x31, 0xe8, 0x3e, 0x0d, 0xd7,\n",
    "            0x80, 0xff, 0x69, 0x8a, 0xba, 0x0b, 0x73, 0x5c,\n",
    "            0x6e, 0x54, 0x15, 0x62, 0xf6, 0x35, 0x30, 0x52,\n",
    "            0xa3, 0x16, 0xd3, 0x28, 0x32, 0xfa, 0xaa, 0x5e,\n",
    "            0xcf, 0xea, 0xed, 0x78, 0x33, 0x58, 0x09, 0x7b,\n",
    "            0x63, 0xc0, 0xc1, 0x46, 0x1e, 0xdf, 0xa9, 0x99,\n",
    "            0x55, 0x04, 0xc4, 0x86, 0x39, 0x77, 0x82, 0xec,\n",
    "            0x40, 0x18, 0x90, 0x97, 0x59, 0xdd, 0x83, 0x1f,\n",
    "            0x9a, 0x37, 0x06, 0x24, 0x64, 0x7c, 0xa5, 0x56,\n",
    "            0x48, 0x08, 0x85, 0xd0, 0x61, 0x26, 0xca, 0x6f,\n",
    "            0x7e, 0x6a, 0xb6, 0x71, 0xa0, 0x70, 0x05, 0xd1,\n",
    "            0x45, 0x8c, 0x23, 0x1c, 0xf0, 0xee, 0x89, 0xad,\n",
    "            0x7a, 0x4b, 0xc2, 0x2f, 0xdb, 0x5a, 0x4d, 0x76,\n",
    "            0x67, 0x17, 0x2d, 0xf4, 0xcb, 0xb1, 0x4a, 0xa8,\n",
    "            0xb5, 0x22, 0x47, 0x3a, 0xd5, 0x10, 0x4c, 0x72,\n",
    "            0xcc, 0x00, 0xf9, 0xe0, 0xfd, 0xe2, 0xfe, 0xae,\n",
    "            0xf8, 0x5f, 0xab, 0xf1, 0x1b, 0x42, 0x81, 0xd6,\n",
    "            0xbe, 0x44, 0x29, 0xa6, 0x57, 0xb9, 0xaf, 0xf2,\n",
    "            0xd4, 0x75, 0x66, 0xbb, 0x68, 0x9f, 0x50, 0x02,\n",
    "            0x01, 0x3c, 0x7f, 0x8d, 0x1a, 0x88, 0xbd, 0xac,\n",
    "            0xf7, 0xe4, 0x79, 0x96, 0xa2, 0xfc, 0x6d, 0xb2,\n",
    "            0x6b, 0x03, 0xe1, 0x2e, 0x7d, 0x14, 0x95, 0x1d]\n"
   ]
  },
  {
   "cell_type": "code",
   "execution_count": 16,
   "metadata": {},
   "outputs": [],
   "source": [
    "def write_to_file(name, value):\n",
    "    with open(name, 'w') as file:\n",
    "        if type(value) == list:\n",
    "            for i in value:\n",
    "                file.write(str(i) + '\\n')\n",
    "        else:\n",
    "            file.write(str(value))"
   ]
  },
  {
   "cell_type": "code",
   "execution_count": 17,
   "metadata": {},
   "outputs": [],
   "source": [
    "def get_ddt(sbox):\n",
    "    size = len(sbox)\n",
    "    ddt = np.array([[0]*size]*size)\n",
    "    for x in range(size):\n",
    "        for a in range(size):\n",
    "            b = sbox[x ^ a] ^ sbox[x]\n",
    "            ddt[a, b] += 1\n",
    "    ddt[0][0] = 0 #вообще говоря - это неверно, только для удобства вычисления\n",
    "    return ddt"
   ]
  },
  {
   "cell_type": "code",
   "execution_count": 4,
   "metadata": {},
   "outputs": [
    {
     "data": {
      "text/plain": [
       "10"
      ]
     },
     "execution_count": 4,
     "metadata": {},
     "output_type": "execute_result"
    }
   ],
   "source": [
    "get_ddt(clefia_s0).max()"
   ]
  },
  {
   "cell_type": "code",
   "execution_count": 5,
   "metadata": {},
   "outputs": [],
   "source": [
    "def get_linear(param, n):\n",
    "    masks = [int(2**i) for i in range(n)]\n",
    "    def lin_f(x):\n",
    "        tmp = 0\n",
    "        p = param&x\n",
    "        for i in range(n):\n",
    "            tmp ^= (p&masks[i])>>i\n",
    "        return tmp\n",
    "    return lin_f\n",
    "\n",
    "def correlations(f1, f2, size):\n",
    "    out1 = int(''.join(['{}'.format(f1(x)) for x in range(size)]), 2)\n",
    "    out2 = int(''.join(['{}'.format(f2(x)) for x in range(size)]), 2)\n",
    "    return size - bin(out1 ^ out2).count('1')#2**(1-n)*ret - 1\n",
    "\n",
    "def get_lat(sbox):\n",
    "    size = len(sbox)\n",
    "    n = int(log2(size))\n",
    "    linears = {a: get_linear(a, n) for a in range(size)}\n",
    "    lat = np.array([[0]*size]*size)\n",
    "    for a in range(size):\n",
    "        for b in range(size):\n",
    "            lat[a, b] = correlations(linears[a], lambda x: linears[b](sbox[x]), size)\n",
    "    lat -= (size//2)\n",
    "    #вообще говоря - это неверно, только для удобства вычисления\n",
    "    #----------------------------------------------------------\n",
    "    lat[0][0] = 0 \n",
    "    for a in range(size):\n",
    "        for b in range(size):\n",
    "            lat[a, b] = int(fabs(lat[a, b]))\n",
    "    #----------------------------------------------------------\n",
    "    return lat"
   ]
  },
  {
   "cell_type": "code",
   "execution_count": 73,
   "metadata": {},
   "outputs": [],
   "source": [
    "lat = get_lat(clefia_s1)\n",
    "write_to_file('clefia_s1.txt', lat.max())"
   ]
  },
  {
   "cell_type": "code",
   "execution_count": 13,
   "metadata": {},
   "outputs": [],
   "source": [
    "def get_polynomial_coefs(tt):\n",
    "    coefs = []\n",
    "    size = len(tt)\n",
    "    tmp_tt = tt[:]\n",
    "    for i in range(size):\n",
    "        coefs.append(tmp_tt[0])\n",
    "        for j in range(size - i - 1):\n",
    "            tmp_tt[j] = tmp_tt[j] ^ tmp_tt[j+1]\n",
    "    return coefs\n",
    "\n",
    "def get_deg_polyn(tt):\n",
    "    coefs = get_polynomial_coefs(tt)\n",
    "    size = len(coefs)\n",
    "    n = int(log2(size))\n",
    "    terms = []\n",
    "    max_d = 0\n",
    "    for i in range(size):\n",
    "        if coefs[i] == 1:\n",
    "            terms.append('')\n",
    "            if i == 0:\n",
    "                terms[-1] += '1'\n",
    "            else:\n",
    "                tmp_d = 0\n",
    "                for j in range(n):\n",
    "                    if (i>>j)&1 == 1:\n",
    "                        tmp_d += 1\n",
    "                        terms[-1] += 'x' + str(j+1)\n",
    "                if tmp_d > max_d:\n",
    "                    max_d = tmp_d\n",
    "    return max_d, terms\n",
    "\n",
    "def get_degs_polyns_sbox(sbox):\n",
    "    size = len(sbox)\n",
    "    n = int(log2(size))\n",
    "    tts = [[] for x in range(n)]\n",
    "    for i in range(size):\n",
    "        for j in range(n):\n",
    "            x_j = (sbox[i]>>j)&1\n",
    "            tts[j].append(x_j)\n",
    "    polyns = []\n",
    "    for k in range(n):\n",
    "        polyns.append(get_deg_polyn(tts[k]))\n",
    "    return polyns\n",
    "\n",
    "def get_coefs_sbox(sbox):\n",
    "    size = len(sbox)\n",
    "    n = int(log2(size))\n",
    "    tts = [[] for x in range(n)]\n",
    "    for i in range(size):\n",
    "        for j in range(n):\n",
    "            x_j = (sbox[i]>>j)&1\n",
    "            tts[j].append(x_j)\n",
    "    sbox_coefs = []\n",
    "    for k in range(n):\n",
    "        sbox_coefs.append(get_polynomial_coefs(tts[k]))\n",
    "    return sbox_coefs"
   ]
  },
  {
   "cell_type": "code",
   "execution_count": 14,
   "metadata": {},
   "outputs": [],
   "source": [
    "polyns = get_coefs_sbox(present)\n",
    "write_to_file('present_coefs.txt', polyns)"
   ]
  },
  {
   "cell_type": "code",
   "execution_count": 27,
   "metadata": {},
   "outputs": [],
   "source": [
    "def get_deg_by_coefs(coefs):\n",
    "    max_d = 0\n",
    "    size = len(coefs)\n",
    "    n = int(log2(size))\n",
    "    for i in range(size):\n",
    "        if coefs[i] == 1:\n",
    "            tmp_d = 0\n",
    "            for j in range(n):\n",
    "                if (i>>j)&1 == 1:\n",
    "                    tmp_d += 1\n",
    "            if tmp_d > max_d:\n",
    "                max_d = tmp_d\n",
    "    return max_d\n",
    "\n",
    "def get_nonlin_order_sbox(sbox):\n",
    "    coefs = get_coefs_sbox(sbox)\n",
    "    np_coefs = np.array(coefs)\n",
    "    size = len(sbox)\n",
    "    n = int(log2(size))\n",
    "    min_d = n\n",
    "    for i in range(1, size):\n",
    "        np_i = np.array([int(x) for x in '{0:0{1}b}'.format(i, n)])\n",
    "        tmp_d = get_deg_by_coefs(list(map(lambda x: x%2, list(np_i @ np_coefs))))\n",
    "        if tmp_d < min_d:\n",
    "            min_d = tmp_d\n",
    "    return min_d"
   ]
  },
  {
   "cell_type": "code",
   "execution_count": 28,
   "metadata": {},
   "outputs": [
    {
     "data": {
      "text/plain": [
       "7"
      ]
     },
     "execution_count": 28,
     "metadata": {},
     "output_type": "execute_result"
    }
   ],
   "source": [
    "get_nonlin_order_sbox(clefia_s1)"
   ]
  },
  {
   "cell_type": "code",
   "execution_count": 50,
   "metadata": {},
   "outputs": [],
   "source": [
    "def get_slk(sbox):\n",
    "    size = len(sbox)\n",
    "    n = int(log2(size))\n",
    "    masks = [int(2**i) for i in range(n)]\n",
    "    ret = []\n",
    "    for e_i in masks:\n",
    "        ret.append([0 for i in range(n)])\n",
    "        for x in range(size):\n",
    "            tmp = [int(y) for y in '{0:0{1}b}'.format(sbox[x] ^ sbox[x^e_i], n)]\n",
    "            ret[-1] = (list(map((lambda a: a[0]+a[1]), zip(ret[-1], tmp))))\n",
    "    return ret\n",
    "\n",
    "def check_slk(sbox):\n",
    "    slk_table = get_slk(sbox)\n",
    "    for e_i in slk_table:\n",
    "        if e_i.count(len(sbox)//2) != len(slk_table):\n",
    "            return False\n",
    "    else:\n",
    "        return True"
   ]
  },
  {
   "cell_type": "code",
   "execution_count": 49,
   "metadata": {},
   "outputs": [
    {
     "name": "stdout",
     "output_type": "stream",
     "text": [
      "[[152, 136, 120, 144, 144, 152, 128, 120], [128, 144, 112, 128, 128, 160, 128, 136], [136, 144, 152, 144, 136, 104, 144, 144], [128, 128, 144, 144, 168, 144, 168, 112], [136, 136, 144, 160, 128, 136, 136, 136], [144, 144, 120, 160, 112, 128, 144, 136], [136, 144, 128, 136, 152, 144, 160, 128], [136, 136, 144, 152, 120, 136, 144, 136]]\n"
     ]
    },
    {
     "data": {
      "text/plain": [
       "False"
      ]
     },
     "execution_count": 49,
     "metadata": {},
     "output_type": "execute_result"
    }
   ],
   "source": [
    "check_slk(clefia_s0)"
   ]
  },
  {
   "cell_type": "code",
   "execution_count": 55,
   "metadata": {},
   "outputs": [
    {
     "name": "stdout",
     "output_type": "stream",
     "text": [
      "6\n",
      "5\n",
      "3\n",
      "False\n"
     ]
    }
   ],
   "source": [
    "sbox = lilliput\n",
    "print(get_ddt(sbox).max())\n",
    "print(get_lat(sbox).max())\n",
    "print(get_nonlin_order_sbox(sbox))\n",
    "print(check_slk(sbox))"
   ]
  },
  {
   "cell_type": "code",
   "execution_count": null,
   "metadata": {},
   "outputs": [],
   "source": []
  }
 ],
 "metadata": {
  "kernelspec": {
   "display_name": "Python 3",
   "language": "python",
   "name": "python3"
  },
  "language_info": {
   "codemirror_mode": {
    "name": "ipython",
    "version": 3
   },
   "file_extension": ".py",
   "mimetype": "text/x-python",
   "name": "python",
   "nbconvert_exporter": "python",
   "pygments_lexer": "ipython3",
   "version": "3.6.5"
  }
 },
 "nbformat": 4,
 "nbformat_minor": 2
}
